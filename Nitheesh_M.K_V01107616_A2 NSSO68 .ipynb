{
 "cells": [
  {
   "cell_type": "code",
   "execution_count": 3,
   "id": "b562de60",
   "metadata": {},
   "outputs": [],
   "source": [
    "import pandas as pd\n",
    "import numpy as np\n",
    "import statsmodels.api as sm\n",
    "from statsmodels.stats.outliers_influence import variance_inflation_factor"
   ]
  },
  {
   "cell_type": "code",
   "execution_count": 4,
   "id": "0cb9dabd",
   "metadata": {},
   "outputs": [],
   "source": [
    "import os\n",
    "os.chdir(\"C:\\\\Users\\\\nithe\\\\OneDrive\\\\Desktop\")"
   ]
  },
  {
   "cell_type": "code",
   "execution_count": 5,
   "id": "60c136cc",
   "metadata": {},
   "outputs": [
    {
     "name": "stderr",
     "output_type": "stream",
     "text": [
      "C:\\Users\\nithe\\AppData\\Local\\Temp\\ipykernel_11316\\4031375496.py:1: DtypeWarning: Columns (1) have mixed types. Specify dtype option on import or set low_memory=False.\n",
      "  data = pd.read_csv(\"NSSO68.csv\")\n"
     ]
    }
   ],
   "source": [
    "data = pd.read_csv(\"NSSO68.csv\")"
   ]
  },
  {
   "cell_type": "code",
   "execution_count": 6,
   "id": "7cc94c60",
   "metadata": {},
   "outputs": [
    {
     "data": {
      "text/plain": [
       "array(['GUJ', 'ORI', 'CHTSD', 'MP', 'JRKD', 'WB', 'AP', 'MH', 'D&D',\n",
       "       'D&NH', 'MIZ', 'TRPR', 'MANPR', 'ASSM', 'MEG', 'NAG', 'A&N',\n",
       "       'PNDCRY', 'TN', 'GOA', 'KA', 'KE', 'LKSDP', 'SKM', 'Bhr', 'UP',\n",
       "       'RJ', 'ARP', 'DL', 'HR', 'Pun', 'HP', 'UT', 'Chandr', 'J$K'],\n",
       "      dtype=object)"
      ]
     },
     "execution_count": 6,
     "metadata": {},
     "output_type": "execute_result"
    }
   ],
   "source": [
    "data['state_1'].unique()"
   ]
  },
  {
   "cell_type": "code",
   "execution_count": 7,
   "id": "a4fc8bcd",
   "metadata": {},
   "outputs": [
    {
     "name": "stdout",
     "output_type": "stream",
     "text": [
      "       foodtotal_q  MPCE_MRP  MPCE_URP  Age  Meals_At_Home  \\\n",
      "6218     31.463011   3088.75   3079.00   45           90.0   \n",
      "6219     20.178901   1677.95   1481.00   50           60.0   \n",
      "6220     14.793985    700.26    619.75   36           60.0   \n",
      "6221     16.100309    700.26    657.67   58           60.0   \n",
      "6222     24.567193   1070.02   1027.67   35           90.0   \n",
      "...            ...       ...       ...  ...            ...   \n",
      "57794    22.500550    981.47    982.33   30           90.0   \n",
      "57795    23.120310    921.82   1039.60   47           60.0   \n",
      "57796    23.275344    748.20    914.00   37           60.0   \n",
      "57797    40.375775   1552.38   1833.00   25           90.0   \n",
      "57798    17.585879    771.86    919.29   56           60.0   \n",
      "\n",
      "       Possess_ration_card  Education  No_of_Meals_per_day  \n",
      "6218                   1.0       10.0                  3.0  \n",
      "6219                   1.0       10.0                  2.0  \n",
      "6220                   1.0       10.0                  2.0  \n",
      "6221                   1.0        1.0                  2.0  \n",
      "6222                   1.0        7.0                  3.0  \n",
      "...                    ...        ...                  ...  \n",
      "57794                  1.0        7.0                  3.0  \n",
      "57795                  1.0        5.0                  2.0  \n",
      "57796                  1.0        1.0                  2.0  \n",
      "57797                  1.0        5.0                  3.0  \n",
      "57798                  1.0       10.0                  2.0  \n",
      "\n",
      "[6315 rows x 8 columns]\n"
     ]
    }
   ],
   "source": [
    "#Subsetting the data\n",
    "subset_data = data[data['state_1'] == 'WB'][['foodtotal_q', 'MPCE_MRP', 'MPCE_URP', 'Age', 'Meals_At_Home', 'Possess_ration_card', 'Education', 'No_of_Meals_per_day']]\n",
    "print(subset_data)"
   ]
  },
  {
   "cell_type": "code",
   "execution_count": 8,
   "id": "e05c961c",
   "metadata": {},
   "outputs": [
    {
     "name": "stdout",
     "output_type": "stream",
     "text": [
      "0\n",
      "0\n",
      "0\n",
      "0\n",
      "7\n"
     ]
    }
   ],
   "source": [
    "#Checking for missing values\n",
    "print(subset_data['MPCE_MRP'].isna().sum())\n",
    "print(subset_data['MPCE_URP'].isna().sum())\n",
    "print(subset_data['Age'].isna().sum())\n",
    "print(subset_data['Possess_ration_card'].isna().sum())\n",
    "print(data['Education'].isna().sum())"
   ]
  },
  {
   "cell_type": "code",
   "execution_count": 9,
   "id": "39f6459f",
   "metadata": {},
   "outputs": [],
   "source": [
    "#Creating a function to impute th emissing values with the mean of the variable\n",
    "def impute_with_mean(data, columns):\n",
    "    for column in columns:\n",
    "        data[column].fillna(data[column].mean(), inplace=True)\n",
    "    return data"
   ]
  },
  {
   "cell_type": "code",
   "execution_count": 10,
   "id": "f86c302a",
   "metadata": {},
   "outputs": [],
   "source": [
    "#Imputiong the columns\n",
    "columns_to_impute = ['Education', 'MPCE_MRP', 'MPCE_URP', 'Age', 'Meals_At_Home', 'Possess_ration_card', 'foodtotal_q']"
   ]
  },
  {
   "cell_type": "code",
   "execution_count": 11,
   "id": "a24942a4",
   "metadata": {},
   "outputs": [],
   "source": [
    "subset_data = impute_with_mean(subset_data, columns_to_impute)"
   ]
  },
  {
   "cell_type": "code",
   "execution_count": 12,
   "id": "13f47a58",
   "metadata": {},
   "outputs": [
    {
     "name": "stdout",
     "output_type": "stream",
     "text": [
      "foodtotal_q            0\n",
      "MPCE_MRP               0\n",
      "MPCE_URP               0\n",
      "Age                    0\n",
      "Meals_At_Home          0\n",
      "Possess_ration_card    0\n",
      "Education              0\n",
      "No_of_Meals_per_day    5\n",
      "dtype: int64\n"
     ]
    }
   ],
   "source": [
    "print(subset_data.isna().sum()) "
   ]
  },
  {
   "cell_type": "code",
   "execution_count": 13,
   "id": "c23b35d8",
   "metadata": {},
   "outputs": [],
   "source": [
    "#Fitting the regression model\n",
    "X = subset_data[['MPCE_MRP', 'MPCE_URP', 'Age', 'Meals_At_Home', 'Possess_ration_card', 'Education']]\n",
    "X = sm.add_constant(X)  # Adds a constant term to the predictor\n",
    "y = subset_data['foodtotal_q']\n"
   ]
  },
  {
   "cell_type": "code",
   "execution_count": 14,
   "id": "53dc6fda",
   "metadata": {},
   "outputs": [],
   "source": [
    "model = sm.OLS(y, X).fit()"
   ]
  },
  {
   "cell_type": "code",
   "execution_count": 15,
   "id": "cfb699f3",
   "metadata": {},
   "outputs": [
    {
     "name": "stdout",
     "output_type": "stream",
     "text": [
      "                            OLS Regression Results                            \n",
      "==============================================================================\n",
      "Dep. Variable:            foodtotal_q   R-squared:                       0.159\n",
      "Model:                            OLS   Adj. R-squared:                  0.158\n",
      "Method:                 Least Squares   F-statistic:                     198.5\n",
      "Date:                Sun, 23 Jun 2024   Prob (F-statistic):          1.70e-232\n",
      "Time:                        22:13:58   Log-Likelihood:                -21836.\n",
      "No. Observations:                6315   AIC:                         4.369e+04\n",
      "Df Residuals:                    6308   BIC:                         4.373e+04\n",
      "Df Model:                           6                                         \n",
      "Covariance Type:            nonrobust                                         \n",
      "=======================================================================================\n",
      "                          coef    std err          t      P>|t|      [0.025      0.975]\n",
      "---------------------------------------------------------------------------------------\n",
      "const                  13.2794      0.752     17.665      0.000      11.806      14.753\n",
      "MPCE_MRP                0.0005    8.1e-05      6.359      0.000       0.000       0.001\n",
      "MPCE_URP                0.0007   8.49e-05      8.795      0.000       0.001       0.001\n",
      "Age                     0.0765      0.007     10.830      0.000       0.063       0.090\n",
      "Meals_At_Home           0.0924      0.006     14.856      0.000       0.080       0.105\n",
      "Possess_ration_card    -2.2776      0.381     -5.979      0.000      -3.024      -1.531\n",
      "Education               0.1921      0.030      6.409      0.000       0.133       0.251\n",
      "==============================================================================\n",
      "Omnibus:                     1726.309   Durbin-Watson:                   1.526\n",
      "Prob(Omnibus):                  0.000   Jarque-Bera (JB):            33118.319\n",
      "Skew:                           0.822   Prob(JB):                         0.00\n",
      "Kurtosis:                      14.098   Cond. No.                     3.34e+04\n",
      "==============================================================================\n",
      "\n",
      "Notes:\n",
      "[1] Standard Errors assume that the covariance matrix of the errors is correctly specified.\n",
      "[2] The condition number is large, 3.34e+04. This might indicate that there are\n",
      "strong multicollinearity or other numerical problems.\n"
     ]
    }
   ],
   "source": [
    "#Printinf the regression results\n",
    "print(model.summary())"
   ]
  },
  {
   "cell_type": "code",
   "execution_count": 16,
   "id": "f852d1d6",
   "metadata": {},
   "outputs": [],
   "source": [
    "#Checking for multicollinearity using Inflator Factor (VIF)\n",
    "vif_data = pd.DataFrame()\n",
    "vif_data['feature'] = X.columns\n",
    "vif_data['VIF'] = [variance_inflation_factor(X.values, i) for i in range(X.shape[1])]\n"
   ]
  },
  {
   "cell_type": "code",
   "execution_count": 17,
   "id": "e39dd8a7",
   "metadata": {},
   "outputs": [
    {
     "name": "stdout",
     "output_type": "stream",
     "text": [
      "               feature        VIF\n",
      "0                const  60.407254\n",
      "1             MPCE_MRP   3.369163\n",
      "2             MPCE_URP   3.352720\n",
      "3                  Age   1.037776\n",
      "4        Meals_At_Home   1.059513\n",
      "5  Possess_ration_card   1.035070\n",
      "6            Education   1.265411\n"
     ]
    }
   ],
   "source": [
    "print(vif_data)"
   ]
  },
  {
   "cell_type": "code",
   "execution_count": 18,
   "id": "f37e26fd",
   "metadata": {},
   "outputs": [],
   "source": [
    "#Extracting the coefficients from the model\n",
    "coefficients = model.params"
   ]
  },
  {
   "cell_type": "code",
   "execution_count": 19,
   "id": "1e11b84d",
   "metadata": {},
   "outputs": [
    {
     "name": "stdout",
     "output_type": "stream",
     "text": [
      "y = 13.28 + 0.000515*x1 + 0.000747*x2 + 0.076463*x3 + 0.092386*x4 + -2.277590*x5 + 0.192134*x6\n"
     ]
    }
   ],
   "source": [
    "#Constructing the equation\n",
    "equation = f\"y = {coefficients[0]:.2f}\"\n",
    "for i in range(1, len(coefficients)):\n",
    "    equation += f\" + {coefficients[i]:.6f}*x{i}\"\n",
    "print(equation)\n"
   ]
  },
  {
   "cell_type": "code",
   "execution_count": null,
   "id": "c12576f5",
   "metadata": {},
   "outputs": [],
   "source": []
  },
  {
   "cell_type": "code",
   "execution_count": null,
   "id": "920dd7b9",
   "metadata": {},
   "outputs": [],
   "source": []
  }
 ],
 "metadata": {
  "kernelspec": {
   "display_name": "Python 3 (ipykernel)",
   "language": "python",
   "name": "python3"
  },
  "language_info": {
   "codemirror_mode": {
    "name": "ipython",
    "version": 3
   },
   "file_extension": ".py",
   "mimetype": "text/x-python",
   "name": "python",
   "nbconvert_exporter": "python",
   "pygments_lexer": "ipython3",
   "version": "3.11.5"
  }
 },
 "nbformat": 4,
 "nbformat_minor": 5
}
